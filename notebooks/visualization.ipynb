{
 "cells": [
  {
   "cell_type": "code",
   "execution_count": 1,
   "id": "04ddbabe-fca6-4849-bcb8-e11d0ccc2626",
   "metadata": {},
   "outputs": [],
   "source": [
    "import numpy as np\n",
    "import pandas as pd\n",
    "import matplotlib.pyplot as plt"
   ]
  },
  {
   "cell_type": "code",
   "execution_count": 2,
   "id": "d8973d3d-a629-4f18-9cf8-72bcb4fb79a4",
   "metadata": {},
   "outputs": [],
   "source": [
    "mnist = pd.read_csv('mnist_784.csv')"
   ]
  },
  {
   "cell_type": "code",
   "execution_count": 52,
   "id": "84ea3845-1366-42a8-9db4-e01ed8ec8f5a",
   "metadata": {},
   "outputs": [],
   "source": [
    "# Select 10 images\n",
    "images = np.array(mnist.iloc[:10, :-1]).reshape(10,28,28)"
   ]
  },
  {
   "cell_type": "code",
   "execution_count": 31,
   "id": "0c8b6b30-fb10-420c-b9d6-01a258fd7173",
   "metadata": {},
   "outputs": [],
   "source": [
    "def show_image(image, title=None):\n",
    "    \"\"\"\n",
    "    Display a single 2D grayscale image.\n",
    "    \"\"\"\n",
    "    plt.imshow(image, cmap='gray', interpolation='nearest')\n",
    "    plt.axis('off')\n",
    "    if title:\n",
    "        plt.title(title)\n",
    "    plt.show()"
   ]
  },
  {
   "cell_type": "code",
   "execution_count": 54,
   "id": "61fdf2e8-f0bc-49b3-ad2e-936fa87d8399",
   "metadata": {},
   "outputs": [
    {
     "data": {
      "image/png": "[encoded data removed]",
      "text/plain": [
       "<Figure size 640x480 with 1 Axes>"
      ]
     },
     "metadata": {},
     "output_type": "display_data"
    }
   ],
   "source": [
    "show_image(images[2])"
   ]
  },
  {
   "cell_type": "code",
   "execution_count": 46,
   "id": "36adb436-6f54-432f-9719-b85df32c2672",
   "metadata": {},
   "outputs": [],
   "source": [
    "from experiment.noise import add_salt_and_pepper_noise_batch"
   ]
  },
  {
   "cell_type": "code",
   "execution_count": 97,
   "id": "2c0bf74a-8464-4df9-850d-7723c6858dea",
   "metadata": {},
   "outputs": [],
   "source": [
    "noise_mnist = add_salt_and_pepper_noise_batch(images,0.8, 1234)"
   ]
  },
  {
   "cell_type": "code",
   "execution_count": 92,
   "id": "bc9bee37-c6c8-40e1-b544-55a8df1f7f2e",
   "metadata": {},
   "outputs": [
    {
     "data": {
      "image/png": "[encoded data removed]",
      "text/plain": [
       "<Figure size 640x480 with 1 Axes>"
      ]
     },
     "metadata": {},
     "output_type": "display_data"
    }
   ],
   "source": [
    "show_image(noise_mnist[2])"
   ]
  },
  {
   "cell_type": "code",
   "execution_count": 58,
   "id": "12b0b3c2-acb0-4b3f-a604-c7bbae5eae12",
   "metadata": {},
   "outputs": [],
   "source": [
    "def show_image_comparison(image1, image2, title1=\"Original\", title2=\"Noisy\", suptitle=None):\n",
    "    \"\"\"\n",
    "    Display two 2D grayscale images side by side.\n",
    "\n",
    "    Parameters\n",
    "    ----------\n",
    "    image1 : np.ndarray\n",
    "        First grayscale image (2D).\n",
    "    image2 : np.ndarray\n",
    "        Second grayscale image (2D).\n",
    "    title1 : str\n",
    "        Title above the first image.\n",
    "    title2 : str\n",
    "        Title above the second image.\n",
    "    suptitle : str, optional\n",
    "        Super-title above both images.\n",
    "    \"\"\"\n",
    "    fig, axes = plt.subplots(1, 2, figsize=(6, 3))\n",
    "\n",
    "    for ax, img, title in zip(axes, [image1, image2], [title1, title2]):\n",
    "        ax.imshow(img, cmap='gray', interpolation='nearest')\n",
    "        ax.set_title(title)\n",
    "        ax.axis('off')\n",
    "\n",
    "    if suptitle:\n",
    "        plt.suptitle(suptitle)\n",
    "    plt.tight_layout()\n",
    "    plt.show()\n"
   ]
  },
  {
   "cell_type": "code",
   "execution_count": 102,
   "id": "eac807e0-35e3-426a-9b7f-48d2a4e3c4cf",
   "metadata": {},
   "outputs": [
    {
     "data": {
      "image/png": "[encoded data removed]",
      "text/plain": [
       "<Figure size 600x300 with 2 Axes>"
      ]
     },
     "metadata": {},
     "output_type": "display_data"
    }
   ],
   "source": [
    "index=4\n",
    "show_image_comparison(image1=images[index], image2=noise_mnist[index], title2='salt-pepper 80%')"
   ]
  },
  {
   "cell_type": "code",
   "execution_count": null,
   "id": "933395ce-0309-4035-8518-43f7f37b3e9c",
   "metadata": {},
   "outputs": [],
   "source": []
  },
  {
   "cell_type": "code",
   "execution_count": 1,
   "id": "58942645-e235-47fe-95af-7b60342a34fc",
   "metadata": {},
   "outputs": [],
   "source": [
    "import numpy as np\n",
    "\n",
    "A = np.array([[1, 2],\n",
    "              [0, 1]])\n",
    "B = np.array([[0, 1],\n",
    "              [1, 0]])\n",
    "v = np.array([[1],\n",
    "              [3]])\n"
   ]
  },
  {
   "cell_type": "code",
   "execution_count": 5,
   "id": "3a294b04-740a-44cb-a560-0e24477d1893",
   "metadata": {},
   "outputs": [
    {
     "data": {
      "text/plain": [
       "array([[3],\n",
       "       [7]])"
      ]
     },
     "execution_count": 5,
     "metadata": {},
     "output_type": "execute_result"
    }
   ],
   "source": [
    "B @ A @ v"
   ]
  },
  {
   "cell_type": "code",
   "execution_count": 8,
   "id": "017f9455-7fb7-4ada-a92e-8c790bfe9950",
   "metadata": {},
   "outputs": [
    {
     "data": {
      "text/plain": [
       "array([[3],\n",
       "       [7]])"
      ]
     },
     "execution_count": 8,
     "metadata": {},
     "output_type": "execute_result"
    }
   ],
   "source": [
    "maps = B @ A\n",
    "maps @ v"
   ]
  }
 ],
 "metadata": {
  "kernelspec": {
   "display_name": "Python 3 (ipykernel)",
   "language": "python",
   "name": "python3"
  },
  "language_info": {
   "codemirror_mode": {
    "name": "ipython",
    "version": 3
   },
   "file_extension": ".py",
   "mimetype": "text/x-python",
   "name": "python",
   "nbconvert_exporter": "python",
   "pygments_lexer": "ipython3",
   "version": "3.11.6"
  },
  "widgets": {
   "application/vnd.jupyter.widget-state+json": {
    "state": {},
    "version_major": 2,
    "version_minor": 0
   }
  }
 },
 "nbformat": 4,
 "nbformat_minor": 5
}
